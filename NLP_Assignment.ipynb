{
  "nbformat": 4,
  "nbformat_minor": 0,
  "metadata": {
    "colab": {
      "provenance": []
    },
    "kernelspec": {
      "name": "python3",
      "display_name": "Python 3"
    },
    "language_info": {
      "name": "python"
    }
  },
  "cells": [
    {
      "cell_type": "code",
      "execution_count": 1,
      "metadata": {
        "id": "RLBsBtOU4wxL"
      },
      "outputs": [],
      "source": [
        "# Import necessary libraries\n",
        "from bs4 import BeautifulSoup\n",
        "import urllib.request\n",
        "import nltk\n",
        "from nltk.corpus import stopwords\n",
        "from collections import Counter\n",
        "import re"
      ]
    },
    {
      "cell_type": "code",
      "source": [
        "# Download stopwords for NLTK (if not previously downloaded)\n",
        "nltk.download('stopwords')\n",
        "\n",
        "# URL to extract text from\n",
        "url = 'http://php.net/'\n",
        "\n",
        "# Open the URL and read the HTML content\n",
        "response = urllib.request.urlopen(url)\n",
        "html = response.read()\n",
        "\n",
        "# Parse the HTML content using BeautifulSoup\n",
        "soup = BeautifulSoup(html, \"html5lib\")\n",
        "\n",
        "# Extract text from the webpage\n",
        "text = soup.get_text()\n",
        "\n",
        "# Clean the text by removing non-alphabetic characters\n",
        "text = re.sub(r'[^A-Za-z\\s]', '', text)\n",
        "text = text.lower()  # Convert text to lowercase\n",
        "\n",
        "# Split text into words\n",
        "words = text.split()\n",
        "\n",
        "# Remove stopwords (common words like 'the', 'is', 'in', etc.)\n",
        "stop_words = set(stopwords.words('english'))\n",
        "filtered_words = [word for word in words if word not in stop_words]\n",
        "\n",
        "# Calculate word frequency using Counter\n",
        "word_freq = Counter(filtered_words)\n",
        "\n",
        "# Display the top 20 most common words with their frequencies\n",
        "print(\"Top 20 most common words:\")\n",
        "for word, freq in word_freq.most_common(20):\n",
        "    print(f\"{word}: {freq}\")"
      ],
      "metadata": {
        "colab": {
          "base_uri": "https://localhost:8080/"
        },
        "id": "51tFFKe843qS",
        "outputId": "d5d04f22-5dd2-4c1c-ab2d-cbe98da5fb11"
      },
      "execution_count": 2,
      "outputs": [
        {
          "output_type": "stream",
          "name": "stderr",
          "text": [
            "[nltk_data] Downloading package stopwords to /root/nltk_data...\n",
            "[nltk_data]   Unzipping corpora/stopwords.zip.\n"
          ]
        },
        {
          "output_type": "stream",
          "name": "stdout",
          "text": [
            "Top 20 most common words:\n",
            "php: 153\n",
            "release: 67\n",
            "please: 43\n",
            "version: 43\n",
            "found: 43\n",
            "downloads: 42\n",
            "source: 42\n",
            "page: 28\n",
            "team: 25\n",
            "visit: 25\n",
            "changes: 25\n",
            "list: 25\n",
            "upgrading: 21\n",
            "file: 20\n",
            "changelog: 19\n",
            "bug: 19\n",
            "test: 18\n",
            "windows: 17\n",
            "extensions: 16\n",
            "released: 16\n"
          ]
        }
      ]
    }
  ]
}